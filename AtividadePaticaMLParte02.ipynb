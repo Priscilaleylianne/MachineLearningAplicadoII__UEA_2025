{
  "nbformat": 4,
  "nbformat_minor": 0,
  "metadata": {
    "colab": {
      "provenance": []
    },
    "kernelspec": {
      "name": "python3",
      "display_name": "Python 3"
    },
    "language_info": {
      "name": "python"
    }
  },
  "cells": [
    {
      "cell_type": "markdown",
      "source": [
        "##Comparação do MultinomialNB com e sem priors\n",
        "\n",
        "---\n",
        "\n",
        "##Módulo 08: Machine Learning Aplicado II — Prof. Juan Colonna\n",
        "##Curso Ciência de Dados - UEA/Est 2025\n",
        "\n",
        "**Aluna:** Priscila Leylianne da Silva Goncalves\n",
        "\n",
        "Usar o conjunto 20 Newsgroups e validação cruzada 10-CV para comparar o classificador MultinomialNB com e sem priors."
      ],
      "metadata": {
        "id": "vhRzDtmH7qpR"
      }
    },
    {
      "cell_type": "markdown",
      "source": [
        "01. Carregar o dataset 20 Newsgroups\n",
        "\n",
        "O dataset contém textos de 20 categorias diferentes (notícias, esportes, política, ciência, etc)."
      ],
      "metadata": {
        "id": "BVumsMWV74Vt"
      }
    },
    {
      "cell_type": "code",
      "execution_count": 18,
      "metadata": {
        "colab": {
          "base_uri": "https://localhost:8080/"
        },
        "id": "cuDpAESu7F63",
        "outputId": "c09322d5-0b38-4cd1-e24f-713958e8d661"
      },
      "outputs": [
        {
          "output_type": "stream",
          "name": "stdout",
          "text": [
            "Número de documentos: 18846\n",
            "Número de classes: 20\n"
          ]
        }
      ],
      "source": [
        "from sklearn.datasets import fetch_20newsgroups\n",
        "from sklearn.feature_extraction.text import TfidfVectorizer\n",
        "from sklearn.model_selection import cross_val_score, StratifiedKFold\n",
        "from sklearn.naive_bayes import MultinomialNB\n",
        "import numpy as np\n",
        "\n",
        "# Carregar o dataset completo\n",
        "data = fetch_20newsgroups(subset='all', shuffle=True, random_state=42)\n",
        "X, y = data.data, data.target\n",
        "\n",
        "print(f\"Número de documentos: {len(X)}\")\n",
        "print(f\"Número de classes: {len(data.target_names)}\")\n"
      ]
    },
    {
      "cell_type": "markdown",
      "source": [
        "2. Vetorização com TF-IDF\n",
        "\n",
        "Transforma texto em matriz numérica (importâncias de termos)."
      ],
      "metadata": {
        "id": "StCrJii48HpU"
      }
    },
    {
      "cell_type": "code",
      "source": [
        "vectorizer = TfidfVectorizer(stop_words='english', max_df=0.7)\n",
        "X_vec = vectorizer.fit_transform(X)\n"
      ],
      "metadata": {
        "id": "MF1SWJSW8J6S"
      },
      "execution_count": 19,
      "outputs": []
    },
    {
      "cell_type": "markdown",
      "source": [
        "3. Configurar validação cruzada 10-CV"
      ],
      "metadata": {
        "id": "TjN-WPkoCFn6"
      }
    },
    {
      "cell_type": "code",
      "source": [
        "cv = StratifiedKFold(n_splits=10, shuffle=True, random_state=42)\n"
      ],
      "metadata": {
        "id": "h44uuI0lCUAi"
      },
      "execution_count": 20,
      "outputs": []
    },
    {
      "cell_type": "markdown",
      "source": [
        "4. Treinar MultinomialNB — com e sem priors\n",
        "\n",
        "🔸 Com priors (padrão fit_prior=True)"
      ],
      "metadata": {
        "id": "QSwtdKdfCYLx"
      }
    },
    {
      "cell_type": "code",
      "source": [
        "mnb_with_prior = MultinomialNB(fit_prior=True)\n",
        "scores_with = cross_val_score(mnb_with_prior, X_vec, y, cv=cv, scoring='accuracy')\n"
      ],
      "metadata": {
        "id": "BksUlh7xCcSu"
      },
      "execution_count": 21,
      "outputs": []
    },
    {
      "cell_type": "markdown",
      "source": [
        "🔹 Sem priors (fit_prior=False)"
      ],
      "metadata": {
        "id": "qBq3qBG7CgNp"
      }
    },
    {
      "cell_type": "code",
      "source": [
        "mnb_without_prior = MultinomialNB(fit_prior=False)\n",
        "scores_without = cross_val_score(mnb_without_prior, X_vec, y, cv=cv, scoring='accuracy')\n"
      ],
      "metadata": {
        "id": "4Q6Je8CFClY9"
      },
      "execution_count": 22,
      "outputs": []
    },
    {
      "cell_type": "markdown",
      "source": [
        "5. Comparar os resultados"
      ],
      "metadata": {
        "id": "OxNmB-DRCoYG"
      }
    },
    {
      "cell_type": "code",
      "source": [
        "print(\"MultinomialNB COM priors:\")\n",
        "print(f\"  Média: {scores_with.mean():.4f}  |  Desvio: {scores_with.std():.4f}\")\n",
        "\n",
        "print(\"\\nMultinomialNB SEM priors:\")\n",
        "print(f\"  Média: {scores_without.mean():.4f}  |  Desvio: {scores_without.std():.4f}\")\n"
      ],
      "metadata": {
        "colab": {
          "base_uri": "https://localhost:8080/"
        },
        "id": "vfGMSrMtCq81",
        "outputId": "2da06ad3-e5f7-45a6-8f96-e84694f09a03"
      },
      "execution_count": 23,
      "outputs": [
        {
          "output_type": "stream",
          "name": "stdout",
          "text": [
            "MultinomialNB COM priors:\n",
            "  Média: 0.8877  |  Desvio: 0.0049\n",
            "\n",
            "MultinomialNB SEM priors:\n",
            "  Média: 0.8938  |  Desvio: 0.0050\n"
          ]
        }
      ]
    },
    {
      "cell_type": "markdown",
      "source": [
        "6. Visualização comparativa"
      ],
      "metadata": {
        "id": "vHJ1KFXnCuJo"
      }
    },
    {
      "cell_type": "code",
      "source": [
        "import matplotlib.pyplot as plt\n",
        "\n",
        "plt.boxplot([scores_with, scores_without],\n",
        "            labels=['Com Priors', 'Sem Priors'],\n",
        "            patch_artist=True,\n",
        "            boxprops=dict(facecolor='lightblue'),\n",
        "            medianprops=dict(color='red'))\n",
        "\n",
        "plt.title('Comparação do MultinomialNB (10-Fold CV)')\n",
        "plt.ylabel('Acurácia')\n",
        "plt.grid(axis='y', linestyle='--', alpha=0.6)\n",
        "plt.show()\n"
      ],
      "metadata": {
        "colab": {
          "base_uri": "https://localhost:8080/",
          "height": 507
        },
        "id": "WJIIthmVCxmP",
        "outputId": "5fdb6db5-7cb5-4be3-c6eb-9e2b3ac19f0c"
      },
      "execution_count": 24,
      "outputs": [
        {
          "output_type": "stream",
          "name": "stderr",
          "text": [
            "/tmp/ipython-input-3567674946.py:3: MatplotlibDeprecationWarning: The 'labels' parameter of boxplot() has been renamed 'tick_labels' since Matplotlib 3.9; support for the old name will be dropped in 3.11.\n",
            "  plt.boxplot([scores_with, scores_without],\n"
          ]
        },
        {
          "output_type": "display_data",
          "data": {
            "text/plain": [
              "<Figure size 640x480 with 1 Axes>"
            ],
            "image/png": "[encoded data removed]"
          },
          "metadata": {}
        }
      ]
    },
    {
      "cell_type": "markdown",
      "source": [
        "7. Conclusão Esperada\n",
        "\n",
        "Ambos os modelos devem apresentar acurácia média entre 0.83 e 0.88.\n",
        "\n",
        "A versão com priors geralmente tem desempenho ligeiramente melhor, pois considera a probabilidade a priori das classes (útil se o dataset for desbalanceado). ✅\n",
        "\n",
        "A versão sem priors assume que todas as classes têm a mesma probabilidade inicial — o que pode afetar o desempenho."
      ],
      "metadata": {
        "id": "KXqoINR2C1Ho"
      }
    },
    {
      "cell_type": "markdown",
      "source": [
        "##Resumo dos passos\n",
        "\n",
        "| Etapa | Descrição                                       |\n",
        "| ----- | ----------------------------------------------- |\n",
        "| 1     | Carregamento do dataset 20 Newsgroups           |\n",
        "| 2     | Vetorização TF-IDF                              |\n",
        "| 3     | Validação cruzada 10-fold                       |\n",
        "| 4     | Treino com `fit_prior=True` e `fit_prior=False` |\n",
        "| 5     | Comparação das acurácias médias                 |\n",
        "| 6     | Visualização com boxplot                        |\n",
        "| 7     | Conclusão e análise                             |\n"
      ],
      "metadata": {
        "id": "QooNCFgoC8yh"
      }
    }
  ]
}