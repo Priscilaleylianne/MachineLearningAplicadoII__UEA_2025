{
  "nbformat": 4,
  "nbformat_minor": 0,
  "metadata": {
    "colab": {
      "provenance": []
    },
    "kernelspec": {
      "name": "python3",
      "display_name": "Python 3"
    },
    "language_info": {
      "name": "python"
    }
  },
  "cells": [
    {
      "cell_type": "markdown",
      "source": [
        "##🧠 Questão 9 — Comparação do MultinomialNB com e sem priors\n",
        "\n",
        "---\n",
        "\n",
        "##Módulo 08: Machine Learning Aplicado II — Prof. Juan Colonna\n",
        "##Curso Ciência de Dados - UEA/Est 2025\n",
        "\n",
        "**Aluna:** Priscila Leylianne da Silva Goncalves\n",
        "\n",
        "Usar o conjunto 20 Newsgroups e validação cruzada 10-CV para comparar o classificador MultinomialNB com e sem priors."
      ],
      "metadata": {
        "id": "vhRzDtmH7qpR"
      }
    },
    {
      "cell_type": "markdown",
      "source": [
        "🧩 1️⃣ Carregar o dataset 20 Newsgroups\n",
        "\n",
        "O dataset contém textos de 20 categorias diferentes (notícias, esportes, política, ciência, etc)."
      ],
      "metadata": {
        "id": "BVumsMWV74Vt"
      }
    },
    {
      "cell_type": "code",
      "execution_count": 1,
      "metadata": {
        "colab": {
          "base_uri": "https://localhost:8080/"
        },
        "id": "cuDpAESu7F63",
        "outputId": "241948b9-4f45-46e1-ece1-359258b18c7f"
      },
      "outputs": [
        {
          "output_type": "stream",
          "name": "stdout",
          "text": [
            "Número de documentos: 18846\n",
            "Número de classes: 20\n"
          ]
        }
      ],
      "source": [
        "from sklearn.datasets import fetch_20newsgroups\n",
        "from sklearn.feature_extraction.text import TfidfVectorizer\n",
        "from sklearn.model_selection import cross_val_score, StratifiedKFold\n",
        "from sklearn.naive_bayes import MultinomialNB\n",
        "import numpy as np\n",
        "\n",
        "# Carregar o dataset completo\n",
        "data = fetch_20newsgroups(subset='all', shuffle=True, random_state=42)\n",
        "X, y = data.data, data.target\n",
        "\n",
        "print(f\"Número de documentos: {len(X)}\")\n",
        "print(f\"Número de classes: {len(data.target_names)}\")\n"
      ]
    },
    {
      "cell_type": "markdown",
      "source": [
        "🧱 2️⃣ Vetorização com TF-IDF\n",
        "\n",
        "Transforma texto em matriz numérica (importâncias de termos)."
      ],
      "metadata": {
        "id": "StCrJii48HpU"
      }
    },
    {
      "cell_type": "code",
      "source": [
        "vectorizer = TfidfVectorizer(stop_words='english', max_df=0.7)\n",
        "X_vec = vectorizer.fit_transform(X)\n"
      ],
      "metadata": {
        "id": "MF1SWJSW8J6S"
      },
      "execution_count": 2,
      "outputs": []
    },
    {
      "cell_type": "markdown",
      "source": [
        "⚙️ 3️⃣ Configurar validação cruzada 10-CV"
      ],
      "metadata": {
        "id": "TjN-WPkoCFn6"
      }
    },
    {
      "cell_type": "code",
      "source": [
        "cv = StratifiedKFold(n_splits=10, shuffle=True, random_state=42)\n"
      ],
      "metadata": {
        "id": "h44uuI0lCUAi"
      },
      "execution_count": 3,
      "outputs": []
    },
    {
      "cell_type": "markdown",
      "source": [
        "🧮 4️⃣ Treinar MultinomialNB — com e sem priors\n",
        "🔸 Com priors (padrão fit_prior=True)"
      ],
      "metadata": {
        "id": "QSwtdKdfCYLx"
      }
    },
    {
      "cell_type": "code",
      "source": [
        "mnb_with_prior = MultinomialNB(fit_prior=True)\n",
        "scores_with = cross_val_score(mnb_with_prior, X_vec, y, cv=cv, scoring='accuracy')\n"
      ],
      "metadata": {
        "id": "BksUlh7xCcSu"
      },
      "execution_count": 4,
      "outputs": []
    },
    {
      "cell_type": "markdown",
      "source": [
        "🔹 Sem priors (fit_prior=False)"
      ],
      "metadata": {
        "id": "qBq3qBG7CgNp"
      }
    },
    {
      "cell_type": "code",
      "source": [
        "mnb_without_prior = MultinomialNB(fit_prior=False)\n",
        "scores_without = cross_val_score(mnb_without_prior, X_vec, y, cv=cv, scoring='accuracy')\n"
      ],
      "metadata": {
        "id": "4Q6Je8CFClY9"
      },
      "execution_count": 5,
      "outputs": []
    },
    {
      "cell_type": "markdown",
      "source": [
        "📊 5️⃣ Comparar os resultados"
      ],
      "metadata": {
        "id": "OxNmB-DRCoYG"
      }
    },
    {
      "cell_type": "code",
      "source": [
        "print(\"MultinomialNB COM priors:\")\n",
        "print(f\"  Média: {scores_with.mean():.4f}  |  Desvio: {scores_with.std():.4f}\")\n",
        "\n",
        "print(\"\\nMultinomialNB SEM priors:\")\n",
        "print(f\"  Média: {scores_without.mean():.4f}  |  Desvio: {scores_without.std():.4f}\")\n"
      ],
      "metadata": {
        "colab": {
          "base_uri": "https://localhost:8080/"
        },
        "id": "vfGMSrMtCq81",
        "outputId": "3db5c49b-73d9-4e03-fda2-b7287ee4d27d"
      },
      "execution_count": 6,
      "outputs": [
        {
          "output_type": "stream",
          "name": "stdout",
          "text": [
            "MultinomialNB COM priors:\n",
            "  Média: 0.8877  |  Desvio: 0.0049\n",
            "\n",
            "MultinomialNB SEM priors:\n",
            "  Média: 0.8938  |  Desvio: 0.0050\n"
          ]
        }
      ]
    },
    {
      "cell_type": "markdown",
      "source": [
        "📈 6️⃣ Visualização comparativa"
      ],
      "metadata": {
        "id": "vHJ1KFXnCuJo"
      }
    },
    {
      "cell_type": "code",
      "source": [
        "import matplotlib.pyplot as plt\n",
        "\n",
        "plt.boxplot([scores_with, scores_without],\n",
        "            labels=['Com Priors', 'Sem Priors'],\n",
        "            patch_artist=True,\n",
        "            boxprops=dict(facecolor='lightblue'),\n",
        "            medianprops=dict(color='red'))\n",
        "\n",
        "plt.title('Comparação do MultinomialNB (10-Fold CV)')\n",
        "plt.ylabel('Acurácia')\n",
        "plt.grid(axis='y', linestyle='--', alpha=0.6)\n",
        "plt.show()\n"
      ],
      "metadata": {
        "colab": {
          "base_uri": "https://localhost:8080/",
          "height": 507
        },
        "id": "WJIIthmVCxmP",
        "outputId": "a8203e6d-8ac1-499f-e2f7-ffd642893f2a"
      },
      "execution_count": 7,
      "outputs": [
        {
          "output_type": "stream",
          "name": "stderr",
          "text": [
            "/tmp/ipython-input-3567674946.py:3: MatplotlibDeprecationWarning: The 'labels' parameter of boxplot() has been renamed 'tick_labels' since Matplotlib 3.9; support for the old name will be dropped in 3.11.\n",
            "  plt.boxplot([scores_with, scores_without],\n"
          ]
        },
        {
          "output_type": "display_data",
          "data": {
            "text/plain": [
              "<Figure size 640x480 with 1 Axes>"
            ],
            "image/png": "[encoded data removed]"
          },
          "metadata": {}
        }
      ]
    },
    {
      "cell_type": "markdown",
      "source": [
        "✅ 7️⃣ Conclusão Esperada\n",
        "\n",
        "Ambos os modelos devem apresentar acurácia média entre 0.83 e 0.88.\n",
        "\n",
        "A versão com priors geralmente tem desempenho ligeiramente melhor, pois considera a probabilidade a priori das classes (útil se o dataset for desbalanceado).\n",
        "\n",
        "A versão sem priors assume que todas as classes têm a mesma probabilidade inicial — o que pode afetar o desempenho."
      ],
      "metadata": {
        "id": "KXqoINR2C1Ho"
      }
    },
    {
      "cell_type": "markdown",
      "source": [
        "##🧾 Resumo dos passos\n",
        "\n",
        "| Etapa | Descrição                                       |\n",
        "| ----- | ----------------------------------------------- |\n",
        "| 1     | Carregamento do dataset 20 Newsgroups           |\n",
        "| 2     | Vetorização TF-IDF                              |\n",
        "| 3     | Validação cruzada 10-fold                       |\n",
        "| 4     | Treino com `fit_prior=True` e `fit_prior=False` |\n",
        "| 5     | Comparação das acurácias médias                 |\n",
        "| 6     | Visualização com boxplot                        |\n",
        "| 7     | Conclusão e análise                             |\n"
      ],
      "metadata": {
        "id": "QooNCFgoC8yh"
      }
    },
    {
      "cell_type": "code",
      "source": [
        "# Questão 9 — Comparação do MultinomialNB com e sem priors (20 Newsgroups, 10-CV)\n",
        "from sklearn.datasets import fetch_20newsgroups\n",
        "from sklearn.feature_extraction.text import TfidfVectorizer\n",
        "from sklearn.model_selection import cross_val_score, StratifiedKFold\n",
        "from sklearn.naive_bayes import MultinomialNB\n",
        "import matplotlib.pyplot as plt\n",
        "import numpy as np\n",
        "\n",
        "# 1. Carregar o dataset completo\n",
        "data = fetch_20newsgroups(subset='all', shuffle=True, random_state=42)\n",
        "X, y = data.data, data.target\n",
        "\n",
        "print(f\"Número de documentos: {len(X)}\")\n",
        "print(f\"Número de classes: {len(data.target_names)}\")\n",
        "\n",
        "# 2. Vetorização TF-IDF\n",
        "vectorizer = TfidfVectorizer(stop_words='english', max_df=0.7)\n",
        "X_vec = vectorizer.fit_transform(X)\n",
        "\n",
        "# 3. Configurar validação cruzada 10-CV\n",
        "cv = StratifiedKFold(n_splits=10, shuffle=True, random_state=42)\n",
        "\n",
        "# 4. MultinomialNB com priors\n",
        "mnb_with_prior = MultinomialNB(fit_prior=True)\n",
        "scores_with = cross_val_score(mnb_with_prior, X_vec, y, cv=cv, scoring='accuracy', n_jobs=-1)\n",
        "\n",
        "# 5. MultinomialNB sem priors\n",
        "mnb_without_prior = MultinomialNB(fit_prior=False)\n",
        "scores_without = cross_val_score(mnb_without_prior, X_vec, y, cv=cv, scoring='accuracy', n_jobs=-1)\n",
        "\n",
        "# 6. Exibir resultados\n",
        "print(\"\\nMultinomialNB COM priors:\")\n",
        "print(f\"Acurácias: {np.round(scores_with, 4)}\")\n",
        "print(f\"Média: {scores_with.mean():.4f} | Desvio: {scores_with.std():.4f}\")\n",
        "\n",
        "print(\"\\nMultinomialNB SEM priors:\")\n",
        "print(f\"Acurácias: {np.round(scores_without, 4)}\")\n",
        "print(f\"Média: {scores_without.mean():.4f} | Desvio: {scores_without.std():.4f}\")\n",
        "\n",
        "# 7. Visualização\n",
        "plt.figure(figsize=(7,5))\n",
        "plt.boxplot([scores_with, scores_without],\n",
        "            labels=['Com Priors', 'Sem Priors'],\n",
        "            patch_artist=True,\n",
        "            boxprops=dict(facecolor='lightblue'),\n",
        "            medianprops=dict(color='red'))\n",
        "plt.title('Comparação do MultinomialNB (10-Fold CV)')\n",
        "plt.ylabel('Acurácia')\n",
        "plt.grid(axis='y', linestyle='--', alpha=0.6)\n",
        "plt.tight_layout()\n",
        "plt.show()\n",
        "\n",
        "# 8. Conclusão resumida\n",
        "if scores_with.mean() > scores_without.mean():\n",
        "    print(\"\\n✅ O modelo com priors apresentou desempenho ligeiramente superior, considerando as probabilidades a priori das classes.\")\n",
        "else:\n",
        "    print(\"\\n⚠️ O modelo sem priors teve desempenho semelhante ou superior, indicando classes equilibradas.\")\n"
      ],
      "metadata": {
        "colab": {
          "base_uri": "https://localhost:8080/",
          "height": 770
        },
        "id": "YEnktwqlDKDo",
        "outputId": "098f1ccc-a60c-4ff5-8b00-5dc36ee71328"
      },
      "execution_count": 8,
      "outputs": [
        {
          "output_type": "stream",
          "name": "stdout",
          "text": [
            "Número de documentos: 18846\n",
            "Número de classes: 20\n",
            "\n",
            "MultinomialNB COM priors:\n",
            "Acurácias: [0.8939 0.8849 0.8875 0.8886 0.8806 0.8966 0.8891 0.8901 0.8806 0.8848]\n",
            "Média: 0.8877 | Desvio: 0.0049\n",
            "\n",
            "MultinomialNB SEM priors:\n",
            "Acurácias: [0.9008 0.8902 0.8939 0.8934 0.887  0.9034 0.8917 0.897  0.8885 0.8917]\n",
            "Média: 0.8938 | Desvio: 0.0050\n"
          ]
        },
        {
          "output_type": "stream",
          "name": "stderr",
          "text": [
            "/tmp/ipython-input-3563349431.py:42: MatplotlibDeprecationWarning: The 'labels' parameter of boxplot() has been renamed 'tick_labels' since Matplotlib 3.9; support for the old name will be dropped in 3.11.\n",
            "  plt.boxplot([scores_with, scores_without],\n"
          ]
        },
        {
          "output_type": "display_data",
          "data": {
            "text/plain": [
              "<Figure size 700x500 with 1 Axes>"
            ],
            "image/png": "[encoded data removed]"
          },
          "metadata": {}
        },
        {
          "output_type": "stream",
          "name": "stdout",
          "text": [
            "\n",
            "⚠️ O modelo sem priors teve desempenho semelhante ou superior, indicando classes equilibradas.\n"
          ]
        }
      ]
    }
  ]
}